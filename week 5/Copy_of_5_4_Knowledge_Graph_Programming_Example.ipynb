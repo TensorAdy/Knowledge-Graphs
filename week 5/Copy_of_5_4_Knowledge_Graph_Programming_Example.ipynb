{
  "nbformat": 4,
  "nbformat_minor": 0,
  "metadata": {
    "colab": {
      "name": "Copy of 5.4 - Knowledge Graph Programming Example.ipynb",
      "provenance": [],
      "collapsed_sections": []
    },
    "kernelspec": {
      "name": "python3",
      "display_name": "Python 3"
    }
  },
  "cells": [
    {
      "cell_type": "markdown",
      "metadata": {
        "id": "-_MNFKNYyrDH"
      },
      "source": [
        "# **Scientific Birthdays Example**\n",
        "\n",
        "This is the python notebook example for lecture 5.4 Knowledge Graph Programming, of the OpenHPI lecture \"Knowledge Graphs 2020\".\n",
        "\n",
        "*Please make a copy of this notebook to try out your own adaptions via \"File -> Save Copy in Drive\"*"
      ]
    },
    {
      "cell_type": "markdown",
      "metadata": {
        "id": "SHxdpQlK7pcg"
      },
      "source": [
        "First, we have to install the **sparqlwrapper library** before we can use it with the notebook."
      ]
    },
    {
      "cell_type": "code",
      "metadata": {
        "id": "SDrJejgTvAE9",
        "colab": {
          "base_uri": "https://localhost:8080/"
        },
        "outputId": "8c530734-7a71-4651-a4cc-a43abeed9fa8"
      },
      "source": [
        "!pip install -q sparqlwrapper    #install SPARQLwrapper"
      ],
      "execution_count": null,
      "outputs": [
        {
          "output_type": "stream",
          "text": [
            "\u001b[K     |████████████████████████████████| 235kB 7.1MB/s \n",
            "\u001b[K     |████████████████████████████████| 51kB 5.8MB/s \n",
            "\u001b[?25h"
          ],
          "name": "stdout"
        }
      ]
    },
    {
      "cell_type": "markdown",
      "metadata": {
        "id": "ZRzOrb06zKfH"
      },
      "source": [
        "We are going to use a few libraries:\n",
        "\n",
        "\n",
        "\n",
        "*   **datetime** for date formatting and interpretation\n",
        "*   **SPARQLWrapper** to execute SPARQL queries and to import the results into python\n",
        "\n",
        "Thus, we will import them now.\n",
        "\n"
      ]
    },
    {
      "cell_type": "code",
      "metadata": {
        "id": "SJXrilamub6T"
      },
      "source": [
        "from datetime import datetime\n",
        "from SPARQLWrapper import SPARQLWrapper, JSON, XML, N3, RDF"
      ],
      "execution_count": null,
      "outputs": []
    },
    {
      "cell_type": "markdown",
      "metadata": {
        "id": "8zIgKA2pznsI"
      },
      "source": [
        "We will use DBpedia (http://dbpedia.org/sparql) as our SPARQL endpoint"
      ]
    },
    {
      "cell_type": "code",
      "metadata": {
        "id": "ASV8cGgcvuR-"
      },
      "source": [
        "sparql = SPARQLWrapper(\"http://dbpedia.org/sparql\") #determine SPARQL endpoint"
      ],
      "execution_count": null,
      "outputs": []
    },
    {
      "cell_type": "markdown",
      "metadata": {
        "id": "0fmehvshztYt"
      },
      "source": [
        "Next comes the query example from the lecture and its execution"
      ]
    },
    {
      "cell_type": "code",
      "metadata": {
        "id": "uRSTc_aqv7vG"
      },
      "source": [
        "#SPARQL query to be executed\n",
        "sparql.setQuery(\"\"\"\n",
        "PREFIX rdf: <http://www.w3.org/1999/02/22-rdf-syntax-ns#>\n",
        "PREFIX dbo: <http://dbpedia.org/ontology/>\n",
        "PREFIX rdfs: <http://www.w3.org/2000/01/rdf-schema#>\n",
        "PREFIX dc:  <http://purl.org/dc/elements/1.1/>\n",
        "\n",
        "Select distinct ?birthdate ?thumbnail ?scientist ?name ?description  WHERE {\n",
        "?scientist rdf:type dbo:Scientist ;\n",
        "        dbo:birthDate ?birthdate ;\n",
        "        rdfs:label ?name ;\n",
        "        rdfs:comment ?description \n",
        " FILTER ((lang(?name)=\"en\")&&(lang(?description)=\"en\")&&(STRLEN(STR(?birthdate))>6)&&(SUBSTR(STR(?birthdate),6)=SUBSTR(STR(bif:curdate('')),6))) .\n",
        " OPTIONAL { ?scientist dbo:thumbnail ?thumbnail . }\n",
        "} ORDER BY ?birthdate\n",
        "\"\"\")\n",
        "\n",
        "sparql.setReturnFormat(JSON)   # Return format is JSON\n",
        "results = sparql.query().convert()   # execute SPARQL query and write result to \"results\""
      ],
      "execution_count": null,
      "outputs": []
    },
    {
      "cell_type": "markdown",
      "metadata": {
        "id": "CrscD2mAz5Md"
      },
      "source": [
        "The results are now formatted in HTML encoding to be displayed nicely in a browser"
      ]
    },
    {
      "cell_type": "code",
      "metadata": {
        "id": "_xp1YyQ2wU50",
        "colab": {
          "base_uri": "https://localhost:8080/"
        },
        "outputId": "5c3a590b-312f-48e4-c65d-3df88e6a112b"
      },
      "source": [
        "# Create HTML output\n",
        "print('<html><head><title>Scientific Birthdays of Today</title></head>')\n",
        "\n",
        "#extract Weekday %A / Month %B / Day of the Month %d by formatting today's date accordingly\n",
        "date = datetime.today().strftime(\"%A  %B %d\")\n",
        "print('<body><h1>Scientific Birthdays of {}</h1>'.format(date))\n",
        "\n",
        "print('<ul>')\n",
        "\n",
        "for result in results[\"results\"][\"bindings\"]:\n",
        "\tif (\"scientist\" in result):\n",
        "\t    #Create a Wikipedia Link\n",
        "  \t\twikiurl = \"http://en.wikipedia.org/wiki/\" + result[\"scientist\"][\"value\"].split('/')[-1]\n",
        "\telse:\n",
        "\t\twikiurl = 'NONE'  \n",
        "\tif (\"name\" in result):\n",
        "  \t\tname = result[\"name\"][\"value\"]\n",
        "\telse:\n",
        "\t\tname = 'NONE'  \t\t\n",
        "\tif (\"birthdate\" in result):\n",
        "\t\tbirthdate = result[\"birthdate\"][\"value\"]\n",
        "\telse:\n",
        "\t\tbirthdate = 'NONE'        \n",
        "\tif (\"description\" in result):\n",
        "\t\tdescription = result[\"description\"][\"value\"]\n",
        "\telse:\n",
        "\t\tdescription = ' '  \n",
        "\tif (\"thumbnail\" in result):\n",
        "\t\tpic = result[\"thumbnail\"][\"value\"]\n",
        "\telse:\n",
        "\t\tpic = 'https://upload.wikimedia.org/wikipedia/commons/thumb/b/b0/Question_mark2.svg/71px-Question_mark2.svg.png'        \t\n",
        "\n",
        "\n",
        "\t#parse date as datetime\n",
        "\tdt = datetime.strptime(birthdate, '%Y-%m-%d')\n",
        "  \n",
        "#\tprint '<li><b>{}</b> --  <a href=\"{}\">{}</a>, {} </li>'.format(dt.year, url, name, description)\n",
        "\tprint('<li><b>{}</b> -- <img src=\"{}\" height=\"60px\"> <a href=\"{}\">{}</a>, {} </li>'.format(dt.year, pic.replace(\"300\", \"60\"), wikiurl, name, description))\n",
        "\n",
        "print('</ul>')\n",
        "print('</body></html>')"
      ],
      "execution_count": null,
      "outputs": [
        {
          "output_type": "stream",
          "text": [
            "<html><head><title>Scientific Birthdays of Today</title></head>\n",
            "<body><h1>Scientific Birthdays of Tuesday  November 24</h1>\n",
            "<ul>\n",
            "<li><b>1597</b> -- <img src=\"http://commons.wikimedia.org/wiki/Special:FilePath/Friedrich_Leibnütz.jpg?width=60\" height=\"60px\"> <a href=\"http://en.wikipedia.org/wiki/Friedrich_Leibniz\">Friedrich Leibniz</a>, Friedrich Leibniz (or Leibnütz; 1597–1652) was a Lutheran lawyer and a notary, registrar and professor of moral philosophy within Leipzig University. He was the father of Gottfried Leibniz. </li>\n",
            "<li><b>1681</b> -- <img src=\"http://commons.wikimedia.org/wiki/Special:FilePath/Johann_Wilhelm_Wagner.jpg?width=60\" height=\"60px\"> <a href=\"http://en.wikipedia.org/wiki/Johann_Wilhelm_Wagner\">Johann Wilhelm Wagner</a>, Johann Wilhelm Wagner (24 November 1681 in Heldburg/Thüringen – 16 December 1745 in Berlin) was a German astronomer. </li>\n",
            "<li><b>1774</b> -- <img src=\"http://commons.wikimedia.org/wiki/Special:FilePath/Dick_Thomas_portrait+signature.jpg?width=60\" height=\"60px\"> <a href=\"http://en.wikipedia.org/wiki/Thomas_Dick_(scientist)\">Thomas Dick (scientist)</a>, Reverend Thomas Dick (24 November 1774 – 29 July 1857), was a Scottish church minister, science teacher and writer, known for his works on astronomy and practical philosophy, combining science and Christianity, and arguing for an harmony between the two. </li>\n",
            "<li><b>1832</b> -- <img src=\"https://upload.wikimedia.org/wikipedia/commons/thumb/b/b0/Question_mark2.svg/71px-Question_mark2.svg.png\" height=\"60px\"> <a href=\"http://en.wikipedia.org/wiki/Henry_Woodward_(geologist)\">Henry Woodward (geologist)</a>, Henry Bolingbroke Woodward (24 November 1832 – 6 September 1921) was an English geologist and paleontologist known for his research on fossil crustaceans and other arthropods. Woodward was born Norwich, England on 24 November 1832 and was educated at Norwich School. </li>\n",
            "<li><b>1846</b> -- <img src=\"https://upload.wikimedia.org/wikipedia/commons/thumb/b/b0/Question_mark2.svg/71px-Question_mark2.svg.png\" height=\"60px\"> <a href=\"http://en.wikipedia.org/wiki/Percy_Gardner\">Percy Gardner</a>, Percy Gardner, FSA, FBA (24 November 1846 – 17 July 1937) was an English classical archaeologist and numismatist. He was Disney Professor of Archaeology at the University of Cambridge from 1879 to 1887. He was Lincoln Professor of Classical Archaeology and Art at the University of Oxford from 1887 to 1925. </li>\n",
            "<li><b>1861</b> -- <img src=\"http://commons.wikimedia.org/wiki/Special:FilePath/August_Bier.jpg?width=60\" height=\"60px\"> <a href=\"http://en.wikipedia.org/wiki/August_Bier\">August Bier</a>, August Karl Gustav Bier (24 November 1861 – 12 March 1949) was a German surgeon. He was the first to perform spinal anesthesia and intravenous regional anesthesia. After professorships in Greifswald and Bonn, Bier became Geheimrat Professor of Surgery and Chief Surgeon at the Charité - Universitätsmedizin in Berlin. </li>\n",
            "<li><b>1863</b> -- <img src=\"http://commons.wikimedia.org/wiki/Special:FilePath/Edwin_G._Conklin.jpg?width=60\" height=\"60px\"> <a href=\"http://en.wikipedia.org/wiki/Edwin_Conklin\">Edwin Conklin</a>, He was born in Waldo Ohio, the son of A. V. Conklin and Maria Hull. He was educated at Ohio Wesleyan University and Johns Hopkins University. He was professor of biology at Ohio Wesleyan (1891–94) and professor of zoology at Northwestern University (1894–96), the University of Pennsylvania (1896-1908), and Princeton University (1908-1935). He became coeditor of the Journal of Morphology, The Biological Bulletin, and the Journal of Experimental Zoology. He was president of the American Society of Naturalists in 1912 and president of the American Association for the Advancement of Science in 1936. He was elected a Fellow of the American Academy of Arts and Sciences in 1914. He also served on the board of trustees for Science Service, now known as Society for Science and the Public, from 1937 </li>\n",
            "<li><b>1863</b> -- <img src=\"http://commons.wikimedia.org/wiki/Special:FilePath/Trouton_Frederick_Thomas.jpg?width=60\" height=\"60px\"> <a href=\"http://en.wikipedia.org/wiki/Frederick_Thomas_Trouton\">Frederick Thomas Trouton</a>, Frederick Thomas Trouton FRS (24 November 1863 – 21 September 1922) was an Irish physicist known for Trouton's Rule and experiments to detect the Earth's motion through the luminiferous aether. </li>\n",
            "<li><b>1876</b> -- <img src=\"http://commons.wikimedia.org/wiki/Special:FilePath/Крячков_Андрей_Дмитриевич.jpg?width=60\" height=\"60px\"> <a href=\"http://en.wikipedia.org/wiki/Andrey_Kryachkov\">Andrey Kryachkov</a>, Andrey Kryachkov (1876 — 1950) was a Russian architect. </li>\n",
            "<li><b>1876</b> -- <img src=\"http://commons.wikimedia.org/wiki/Special:FilePath/Noguchi_Hideyo.jpg?width=60\" height=\"60px\"> <a href=\"http://en.wikipedia.org/wiki/Hideyo_Noguchi\">Hideyo Noguchi</a>, Hideyo Noguchi (野口 英世 Noguchi Hideyo, November 9, 1876 – May 21, 1928), also known as Seisaku Noguchi (野口 清作 Noguchi Seisaku), was a prominent Japanese bacteriologist who in 1911 discovered the agent of syphilis as the cause of progressive paralytic disease. </li>\n",
            "<li><b>1878</b> -- <img src=\"https://upload.wikimedia.org/wikipedia/commons/thumb/b/b0/Question_mark2.svg/71px-Question_mark2.svg.png\" height=\"60px\"> <a href=\"http://en.wikipedia.org/wiki/Paul_J._Sachs\">Paul J. Sachs</a>, Paul Joseph Sachs (November 24, 1878 – February 18, 1965) was an American businessman and museum director. Sachs served as associate director of the Fogg Art Museum and as a partner in the financial firm Goldman Sachs. He is recognized for having developed of one of the earliest museum studies courses in the United States. </li>\n",
            "<li><b>1879</b> -- <img src=\"http://commons.wikimedia.org/wiki/Special:FilePath/Duncan_MacLaren_Young_Sommerville_1.jpg?width=60\" height=\"60px\"> <a href=\"http://en.wikipedia.org/wiki/Duncan_Sommerville\">Duncan Sommerville</a>, Duncan MacLaren Young Sommerville FRSE FRAS (1879–1934) was a Scottish mathematician and astronomer. He compiled a bibliography on non-Euclidean geometry and also wrote a leading textbook in that field. He also wrote Introduction to the Geometry of N Dimensions, advancing the study of polytopes. He was a co-founder and the first secretary of the New Zealand Astronomical Society. Sommerville was also an accomplished watercolourist, producing a series of works of the New Zealand landscape. </li>\n",
            "<li><b>1888</b> -- <img src=\"http://commons.wikimedia.org/wiki/Special:FilePath/Pernkopf_1921_7.png?width=60\" height=\"60px\"> <a href=\"http://en.wikipedia.org/wiki/Eduard_Pernkopf\">Eduard Pernkopf</a>, Eduard Pernkopf (November 24, 1888 – April 17, 1955) was an Austrian professor of anatomy who later served as rector of the University of Vienna, his alma mater. He is best known for his seven-volume anatomical atlas, Topographische Anatomie des Menschen (translated as Atlas of Topographical and Applied Human Anatomy; often colloquially known as the Pernkopf atlas or just Pernkopf), prepared by Pernkopf and four artists over a 20-year period. While it is considered a scientific and artistic masterpiece, with many of its color plates reprinted in other publications and textbooks, it has been in recent years dogged by questions about whether Pernkopf and the artists working for him, all of them ardent Nazis, used concentration camp inmates or condemned political prisoners as their subjects. </li>\n",
            "<li><b>1892</b> -- <img src=\"http://commons.wikimedia.org/wiki/Special:FilePath/Shpolsky.jpg?width=60\" height=\"60px\"> <a href=\"http://en.wikipedia.org/wiki/Eduard_Shpolsky\">Eduard Shpolsky</a>, Eduard Vladimirovich Shpolsky, also Shpolsk'ii, Shpolskii (Russian: Эдуард Владимирович Шпольский, born September 23, 1892 in Voronezh – died August 21, 1975 in Moscow) was a Russian and Soviet physicist and educator, co-founder and lifelong editor of Uspekhi Fizicheskikh Nauk journal (Soviet Physics Uspekhi and Physics-Uspekhi in English translation). </li>\n",
            "<li><b>1893</b> -- <img src=\"http://commons.wikimedia.org/wiki/Special:FilePath/吴宪.jpg?width=60\" height=\"60px\"> <a href=\"http://en.wikipedia.org/wiki/Hsien_Wu\">Hsien Wu</a>, Hsien Wu (simplified Chinese: 吴宪; traditional Chinese: 吳憲; pinyin: Wú Xiàn; 24 November 1893 – 8 August 1959) was a Chinese protein scientist. He was the first to propose that protein denaturation was a purely conformational change, i.e., corresponded to protein unfolding and not to some chemical alteration of the protein. This crucial idea was popularized later by Linus Pauling and Alfred Mirsky. Wu left China in 1947 to reside in the United States. </li>\n",
            "<li><b>1894</b> -- <img src=\"http://commons.wikimedia.org/wiki/Special:FilePath/Stetysz.jpg?width=60\" height=\"60px\"> <a href=\"http://en.wikipedia.org/wiki/Stefan_Tyszkiewicz\">Stefan Tyszkiewicz</a>, Stefan Eugeniusz Tyszkiewicz, in Polish, Stefan Eugeniusz Maria Tyszkiewicz-Łohojski z Landwarowa, Leliwa coat of arms, (born 24 November 1894 in Warsaw, died 6 February 1976 in London) was a member of the Polish nobility, landowner, engineer, inventor and an early pioneer of the Polish automotive industry. He was a decorated veteran of both World Wars and the Polish-Bolshevik War and social activist. After 1945, he became an exile, turned to publishing and politics as a member of the Polish National Council in London. He was an internationally feted inventor to the end of his life. </li>\n",
            "<li><b>1904</b> -- <img src=\"https://upload.wikimedia.org/wikipedia/commons/thumb/b/b0/Question_mark2.svg/71px-Question_mark2.svg.png\" height=\"60px\"> <a href=\"http://en.wikipedia.org/wiki/Leo_Kuper\">Leo Kuper</a>, Leo Kuper (November 20, 1908 – May 23, 1994) was a South African writer and philosopher. He was born to a Lithuanian Jewish family. He trained as a lawyer before becoming a sociologist specialising in the study of genocide. </li>\n",
            "<li><b>1907</b> -- <img src=\"https://upload.wikimedia.org/wikipedia/commons/thumb/b/b0/Question_mark2.svg/71px-Question_mark2.svg.png\" height=\"60px\"> <a href=\"http://en.wikipedia.org/wiki/Ronnie_Bell\">Ronnie Bell</a>, Ronald Percy \"Ronnie\" Bell FRS FRSC FRSE (24 November 1907 – 9 January 1996) was a leading British physical chemist who worked in the Physical Chemistry Laboratory at the University of Oxford, England. </li>\n",
            "<li><b>1909</b> -- <img src=\"http://commons.wikimedia.org/wiki/Special:FilePath/Gerhard_Gentzen.jpg?width=60\" height=\"60px\"> <a href=\"http://en.wikipedia.org/wiki/Gerhard_Gentzen\">Gerhard Gentzen</a>, Gerhard Karl Erich Gentzen (November 24, 1909 – August 4, 1945) was a German mathematician and logician. He made major contributions to the foundations of mathematics, proof theory, especially on natural deduction and sequent calculus. He died in 1945 after the Second World War, because he was deprived of food after being arrested in Prague. </li>\n",
            "<li><b>1912</b> -- <img src=\"http://commons.wikimedia.org/wiki/Special:FilePath/L.B._Borst-signature.png?width=60\" height=\"60px\"> <a href=\"http://en.wikipedia.org/wiki/Lyle_Benjamin_Borst\">Lyle Benjamin Borst</a>, Lyle Benjamin Borst (24 November 1912 – 30 July 2002), nuclear physicist, inventor, worked with Enrico Fermi in Chicago, involved with the Manhattan District Project, and worked with Ernest O. Wollan to conduct neutron scattering and neutron diffraction studies. </li>\n",
            "<li><b>1914</b> -- <img src=\"http://commons.wikimedia.org/wiki/Special:FilePath/Gjyshi_1.JPG?width=60\" height=\"60px\"> <a href=\"http://en.wikipedia.org/wiki/Fahredin_Nuri\">Fahredin Nuri</a>, Fahredin Nuri (24 November 1914 – 16 November 1984) was a notable Albanian hydraulic engineer. </li>\n",
            "<li><b>1915</b> -- <img src=\"http://commons.wikimedia.org/wiki/Special:FilePath/Left_to_right_Bodil_Mimi_Krogh_Schmidt-Nielsen_(b._1918),_Knut_Schmidt-Nielsen_(1915-2007),_and_Barbara_Wagner.jpg?width=60\" height=\"60px\"> <a href=\"http://en.wikipedia.org/wiki/Knut_Schmidt-Nielsen\">Knut Schmidt-Nielsen</a>, Born in Trondheim, Norway. He was educated in Oslo and Copenhagen. He became astudent in the laboratory of August Krogh in Copenhagen in 1937. Schmidt-Nielsen moved to the United States, where he studied at Swarthmore College, Stanford University, and the University of Cincinnati College of Medicine. </li>\n",
            "<li><b>1921</b> -- <img src=\"https://upload.wikimedia.org/wikipedia/commons/thumb/b/b0/Question_mark2.svg/71px-Question_mark2.svg.png\" height=\"60px\"> <a href=\"http://en.wikipedia.org/wiki/Robert_Banks_(chemist)\">Robert Banks (chemist)</a>, Robert L. Banks (November 24, 1921 – January 3, 1989) was an American chemist. He was born and grew up in Piedmont, Missouri. He attended the University of Missouri - Rolla, and initiated into Alpha Phi Omega in 1940. He joined the Phillips Petroleum company in 1946 and worked there until he retired in 1985. He died in Missouri on January 3, 1989. </li>\n",
            "<li><b>1921</b> -- <img src=\"http://commons.wikimedia.org/wiki/Special:FilePath/Herbert_York.jpg?width=60\" height=\"60px\"> <a href=\"http://en.wikipedia.org/wiki/Herbert_York\">Herbert York</a>, Herbert Frank York (24 November 1921 – 19 May 2009) was a part-Mohawk American nuclear physicist. He held numerous research and administrative positions at various United States government and educational institutes. </li>\n",
            "<li><b>1922</b> -- <img src=\"https://upload.wikimedia.org/wikipedia/commons/thumb/b/b0/Question_mark2.svg/71px-Question_mark2.svg.png\" height=\"60px\"> <a href=\"http://en.wikipedia.org/wiki/Martti_Olavi_Siirala\">Martti Olavi Siirala</a>, Martti Olavi Siirala (November 24, 1922 – August 18, 2008) was a Finnish psychiatrist, psychoanalyst and philosopher. He was inspired by psychoanalysis, the anthropological medicine of Viktor von Weizsäcker and the existential philosophy of Martin Heidegger. The outcome was a unique synthesis theory that Siirala called social pathology. </li>\n",
            "<li><b>1925</b> -- <img src=\"http://commons.wikimedia.org/wiki/Special:FilePath/Simon_van_der_Meer_Nl-HaNa_2.24.01.07_253-8884.jpg?width=60\" height=\"60px\"> <a href=\"http://en.wikipedia.org/wiki/Simon_van_der_Meer\">Simon van der Meer</a>, (This is a Dutch name; the family name is van der Meer, not Meer.) Simon van der Meer (24 November 1925 – 4 March 2011) was a Dutch particle accelerator physicist who shared the Nobel Prize in Physics in 1984 with Carlo Rubbia for contributions to the CERN project which led to the discovery of the W and Z particles, two of the most fundamental constituents of matter. </li>\n",
            "<li><b>1926</b> -- <img src=\"http://commons.wikimedia.org/wiki/Special:FilePath/TD_Lee.jpg?width=60\" height=\"60px\"> <a href=\"http://en.wikipedia.org/wiki/Tsung-Dao_Lee\">Tsung-Dao Lee</a>, Tsung-Dao Lee (T. D. Lee; Chinese: 李政道; pinyin: Lǐ Zhèngdào; born November 24, 1926) is a Chinese-American physicist, known for his work on parity violation, the Lee Model, particle physics, relativistic heavy ion (RHIC) physics, nontopological solitons and soliton stars. He holds the rank of University Professor Emeritus at Columbia University, where he has taught since 1953 and from which he retired in 2012. </li>\n",
            "<li><b>1932</b> -- <img src=\"https://upload.wikimedia.org/wikipedia/commons/thumb/b/b0/Question_mark2.svg/71px-Question_mark2.svg.png\" height=\"60px\"> <a href=\"http://en.wikipedia.org/wiki/Ifedayo_Oladapo\">Ifedayo Oladapo</a>, Ifedayo Olawole Oladapo, OON, NNOM, (1932 - 2010) was a Nigerian academic and professor of Civil Engineering at the University of Lagos </li>\n",
            "<li><b>1934</b> -- <img src=\"https://upload.wikimedia.org/wikipedia/commons/thumb/b/b0/Question_mark2.svg/71px-Question_mark2.svg.png\" height=\"60px\"> <a href=\"http://en.wikipedia.org/wiki/Carolyn_Hurless\">Carolyn Hurless</a>, Carolyn Hurless (November 24, 1934 – February 13, 1987) was an American astronomer and an American Association of Variable Star Observers merit award winner. She made 78,876 astronomical observations in her lifetime. </li>\n",
            "<li><b>1936</b> -- <img src=\"https://upload.wikimedia.org/wikipedia/commons/thumb/b/b0/Question_mark2.svg/71px-Question_mark2.svg.png\" height=\"60px\"> <a href=\"http://en.wikipedia.org/wiki/Mervin_F._Verbit\">Mervin F. Verbit</a>, Mervin Feldman Verbit (born November 24, 1936) is an American sociologist whose work focuses on sociology of religion, American Jews and the American Jewish Community. He is currently the chair of the Sociology Department at Touro College. </li>\n",
            "<li><b>1936</b> -- <img src=\"https://upload.wikimedia.org/wikipedia/commons/thumb/b/b0/Question_mark2.svg/71px-Question_mark2.svg.png\" height=\"60px\"> <a href=\"http://en.wikipedia.org/wiki/Bonnie_Strickland\">Bonnie Strickland</a>, Bonnie Ruth Strickland (born November 24, 1936) is an American psychologist and former president of the American Psychological Association (APA). She is a former faculty member and administrator at Emory University and is a professor emerita at the University of Massachusetts Amherst. </li>\n",
            "<li><b>1937</b> -- <img src=\"http://commons.wikimedia.org/wiki/Special:FilePath/Don_Ermis_Segatti.jpg?width=60\" height=\"60px\"> <a href=\"http://en.wikipedia.org/wiki/Ermis_Segatti\">Ermis Segatti</a>, Ermis Segatti (born November 24, 1937 in Pianezza, near Turin - Italy), is a Catholic theologian and university Professor belonging to the Archdiocese of Turin, Italy. </li>\n",
            "<li><b>1944</b> -- <img src=\"http://commons.wikimedia.org/wiki/Special:FilePath/Veerabhadran_Ramanathan_KVA_2009-2.jpg?width=60\" height=\"60px\"> <a href=\"http://en.wikipedia.org/wiki/Veerabhadran_Ramanathan\">Veerabhadran Ramanathan</a>, Veerabhadran Ramanathan (Tamil: வீரபத்ரன் இராமநாதன்) is Victor Alderson Professor of Applied Ocean Sciences and director of the Center for Atmospheric Sciences at the Scripps Institution of Oceanography, University of California, San Diego. He has contributed to many areas of the atmospheric sciences including developments to general circulation models, atmospheric chemistry, and radiative transfer. He has been a part of major projects such as the Indian Ocean Experiment (INDOEX) and the Earth Radiation Budget Experiment (ERBE), and is known for his contributions to the area of atmospheric aerosol research. He has received numerous awards, and is a member of the US National Academy of Sciences. He has spoken about the topic of global warming, and written that \"the effect of greenhouse gase </li>\n",
            "<li><b>1946</b> -- <img src=\"https://upload.wikimedia.org/wikipedia/commons/thumb/b/b0/Question_mark2.svg/71px-Question_mark2.svg.png\" height=\"60px\"> <a href=\"http://en.wikipedia.org/wiki/Philip_Kutzko\">Philip Kutzko</a>, Philip Caesar Kutzko is an American mathematician. He currently is a professor at the University of Iowa. He is known for his contributions to the Langlands program. </li>\n",
            "<li><b>1946</b> -- <img src=\"http://commons.wikimedia.org/wiki/Special:FilePath/Frimer.jpg?width=60\" height=\"60px\"> <a href=\"http://en.wikipedia.org/wiki/Aryeh_Frimer\">Aryeh Frimer</a>, Aryeh Abraham Frimer (Hebrew: אריה אברהם פרימר) (born November 24, 1946) is a noted Israeli Active Oxygen Chemist and specialist on women and Jewish law. </li>\n",
            "<li><b>1947</b> -- <img src=\"https://upload.wikimedia.org/wikipedia/commons/thumb/b/b0/Question_mark2.svg/71px-Question_mark2.svg.png\" height=\"60px\"> <a href=\"http://en.wikipedia.org/wiki/Eva_Lundgren\">Eva Lundgren</a>, Eva Lundgren (born November 24, 1947) is a Norwegian-born Swedish feminist scholar and sociologist, focusing on violence against women and religiously motivated violence. She is Professor Emerita of sociology at Uppsala University. </li>\n",
            "<li><b>1947</b> -- <img src=\"https://upload.wikimedia.org/wikipedia/commons/thumb/b/b0/Question_mark2.svg/71px-Question_mark2.svg.png\" height=\"60px\"> <a href=\"http://en.wikipedia.org/wiki/Gøsta_Esping-Andersen\">Gøsta Esping-Andersen</a>, His major, most influential and highly cited book titled The Three Worlds of Welfare Capitalism was published in 1990 and it laid out three main types of welfare states, in which modern developed capitalist nations cluster: \n",
            "* Liberal \n",
            "* Corporatist-Statist \n",
            "* Social Democratic </li>\n",
            "<li><b>1948</b> -- <img src=\"https://upload.wikimedia.org/wikipedia/commons/thumb/b/b0/Question_mark2.svg/71px-Question_mark2.svg.png\" height=\"60px\"> <a href=\"http://en.wikipedia.org/wiki/G._B._Edwards_(entomologist)\">G. B. Edwards (entomologist)</a>, Dr. Glavis Bernard \"G.B.\" Edwards, Jr. is a taxonomic entomologist specializing primarily in spiders, with broader interests in butterflies, centipedes, millipedes, and thrips. He is the Curator of Arachnida and Myriapoda for the Florida State Collection of Arthropods. His curatorial responsibilities include Arachnida (except Acari): spiders, scorpions, harvestmen, and relatives; Crustacea (terrestrial species only): pillbugs, sowbugs; Myriapoda including centipedes, millipedes, and symphylans; Onychophora; and Thysanoptera. He has authored more than 60 scientific publications in his research field. </li>\n",
            "<li><b>1954</b> -- <img src=\"https://upload.wikimedia.org/wikipedia/commons/thumb/b/b0/Question_mark2.svg/71px-Question_mark2.svg.png\" height=\"60px\"> <a href=\"http://en.wikipedia.org/wiki/Martin_Banwell\">Martin Banwell</a>, Professor Martin G. Banwell FAA, FRACI, Hon.FRSNZ (born 24 November 1954) is an organic chemist specialising in biotransformations and natural product synthesis. His research interests involve the enzymatic preparation of organic molecules as synthons or building blocks for complex natural products. This technology/methodology is then applied to the synthesis of complex marine natural products from the Great Barrier Reef. </li>\n",
            "<li><b>1956</b> -- <img src=\"http://commons.wikimedia.org/wiki/Special:FilePath/Stephenleechemist.JPG?width=60\" height=\"60px\"> <a href=\"http://en.wikipedia.org/wiki/Stephen_Lee_(chemist)\">Stephen Lee (chemist)</a>, Stephen Lee (born 25 October 1955) is an American chemist. He is the son of Tsung-Dao Lee, the winner of the 1957 Nobel Prize in Physics. He is currently a professor at Cornell University. </li>\n",
            "<li><b>1957</b> -- <img src=\"http://commons.wikimedia.org/wiki/Special:FilePath/Ebola_outbreak_in_Gulu_Municipal_Hospital.jpg?width=60\" height=\"60px\"> <a href=\"http://en.wikipedia.org/wiki/Matthew_Lukwiya\">Matthew Lukwiya</a>, Matthew Lukwiya (24 November 1957 – 5 December 2000) was a Ugandan physician and the supervisor of St. Mary's Hospital Lacor, outside of Gulu. He was at the forefront of the 2000 Ebola virus disease outbreak in Uganda. </li>\n",
            "<li><b>1958</b> -- <img src=\"http://commons.wikimedia.org/wiki/Special:FilePath/Gang_Tian.jpeg?width=60\" height=\"60px\"> <a href=\"http://en.wikipedia.org/wiki/Gang_Tian\">Gang Tian</a>, Tian Gang (simplified Chinese: 田刚; traditional Chinese: 田剛; pinyin: Tián Gāng; born November 1958) is a Chinese-American mathematician and an academician of the American Academy of Arts and Sciences. He is known for his contributions to geometric analysis and quantum cohomology especially Gromov-Witten invariants, among other fields. He was born in Nanjing, and was a professor of mathematics at MIT from 1995–2006 (holding the chair of Simons Professor of Mathematics from 1996), but now divides his time between Princeton University and Peking University. His employment at Princeton started from 2003, and now he is entitled Higgins Professor of Mathematics; starting 2005, he has been the director of Beijing International Center for Mathematical Research (BICMR); he has also been Dean of Scho </li>\n",
            "<li><b>1958</b> -- <img src=\"http://commons.wikimedia.org/wiki/Special:FilePath/Marek_Sanak_byVetulani.JPG?width=60\" height=\"60px\"> <a href=\"http://en.wikipedia.org/wiki/Marek_Sanak\">Marek Sanak</a>, Marek Jan Sanak (born 24 November 1958) is a Polish geneticist and molecular biologist, professor of medical sciences, member of the Polish Academy of Arts and Sciences. </li>\n",
            "<li><b>1959</b> -- <img src=\"https://upload.wikimedia.org/wikipedia/commons/thumb/b/b0/Question_mark2.svg/71px-Question_mark2.svg.png\" height=\"60px\"> <a href=\"http://en.wikipedia.org/wiki/Sanjay_Oak\">Sanjay Oak</a>, Dr. Sanjay Oak is an Indian surgeon, specialised in the field of Paediatric Surgery and Laparoscopy. He is a former dean of Seth G. S. Medical College and King Edward Memorial Hospital in Mumbai, Maharashtra, India and an elected Fellow of the National Academy of Medical Sciences. </li>\n",
            "<li><b>1961</b> -- <img src=\"http://commons.wikimedia.org/wiki/Special:FilePath/AlexAdem2.jpeg?width=60\" height=\"60px\"> <a href=\"http://en.wikipedia.org/wiki/Alejandro_Adem\">Alejandro Adem</a>, Alejandro Adem is a professor in the Department of Mathematics at the University of British Columbia since 2005 and the holder of a Canada Research Chair at UBC. He was Director of the Pacific Institute for the Mathematical Sciences for the period 2008 - 2015and since 2015 is the CEO and Scientific Director of Mitacs Canada. </li>\n",
            "<li><b>1965</b> -- <img src=\"https://upload.wikimedia.org/wikipedia/commons/thumb/b/b0/Question_mark2.svg/71px-Question_mark2.svg.png\" height=\"60px\"> <a href=\"http://en.wikipedia.org/wiki/Zoltán_Szabó_(mathematician)\">Zoltán Szabó (mathematician)</a>, Zoltán Szabó (born on November 24, 1965) is a professor of mathematics at Princeton University. He created, along with Peter Ozsváth, Heegaard Floer homology, a homology theory for 3-manifolds. For this contribution to the field of topology, Ozsváth and Szabó were awarded the 2007 Oswald Veblen Prize in Geometry. He got his B.A. from Eötvös Loránd University in Budapest, Hungary in 1990, and he received his Ph.D. from Rutgers University in 1994. In 2010, he was elected honorary member of the Hungarian Academy of Sciences. </li>\n",
            "<li><b>1967</b> -- <img src=\"http://commons.wikimedia.org/wiki/Special:FilePath/Associate_Fellow_Ali_Ansari_speaking_to_Fox_News_about_Iran_(7131591573).jpg?width=60\" height=\"60px\"> <a href=\"http://en.wikipedia.org/wiki/Ali_Ansari\">Ali Ansari</a>, Ali Massoud Ansari (Persian: علی مسعود انصاری‎‎, born 24 November 1967 in Rome) is the Professor in Modern History with reference to the Middle East at St. Andrews University in Scotland, where he is also the founding director of the Institute for Iranian Studies. </li>\n",
            "<li><b>1973</b> -- <img src=\"http://commons.wikimedia.org/wiki/Special:FilePath/Dr_Kewal_Krishan_attending_American_Academy_of_Forensic_Sciences_Conference_in_Las_Vegas,_February_2016.jpg?width=60\" height=\"60px\"> <a href=\"http://en.wikipedia.org/wiki/Kewal_Krishan_(forensic_anthropologist)\">Kewal Krishan (forensic anthropologist)</a>, Dr. Kewal Krishan, an Indian forensic anthropologist, is Associate Professor of physical anthropology at Panjab University, Chandigarh, India. He has contributed to the development of forensic anthropology in India. He is one of the very few forensic anthropology experts of the nation. He earned his PhD in Forensic Anthropology in 2003 from Panjab University, Chandigarh, India. He is an elected fellow of the Royal Anthropological Institute of Great Britain and Ireland (FRAI). </li>\n",
            "<li><b>1977</b> -- <img src=\"http://commons.wikimedia.org/wiki/Special:FilePath/Dboyd-3.jpg?width=60\" height=\"60px\"> <a href=\"http://en.wikipedia.org/wiki/Danah_boyd\">Danah boyd</a>, danah boyd (styled lowercase, born November 24, 1977 as danah michele mattas) is a social media scholar, youth researcher, and advocate working at Microsoft Research, New York University Media Culture & Communication and the Harvard Berkman Center for Internet & Society. </li>\n",
            "<li><b>1981</b> -- <img src=\"http://commons.wikimedia.org/wiki/Special:FilePath/Laci_Green_and_Lindsey_Doe.jpg?width=60\" height=\"60px\"> <a href=\"http://en.wikipedia.org/wiki/Lindsey_Doe\">Lindsey Doe</a>, Lindsey Takara Doe (born November 24, 1981) is an American teacher of sexology best known for her online video series, Sexplanations. Doe studied sexology at the Institute for Advanced Study of Human Sexuality. For eight years ending in 2014, Doe had taught a human sexuality course at University of Montana. In 2013, video blogging producer Hank Green partnered with Doe to create \"Sexplanations\", a video series explaining sexual topics. Doe's work on Sexplanations follows the precedent set by Laci Green, producer of Sex+, another sex ed show on YouTube. </li>\n",
            "</ul>\n",
            "</body></html>\n"
          ],
          "name": "stdout"
        }
      ]
    },
    {
      "cell_type": "markdown",
      "metadata": {
        "id": "0SXWT2eP-Yaf"
      },
      "source": [
        "Now, do exactly the same, but write output into a file on your local computer (to be displayed in your browser)"
      ]
    },
    {
      "cell_type": "code",
      "metadata": {
        "id": "Kvv0vRcn0jHV",
        "colab": {
          "base_uri": "https://localhost:8080/",
          "height": 17
        },
        "outputId": "8aafa12b-4410-47b5-e7d0-fcd913a93b6e"
      },
      "source": [
        "from google.colab import files\n",
        "\n",
        "with open('birthday.html', 'w') as f:\n",
        "\t# Create HTML output\n",
        "\tf.write('<html><head><title>Scientific Birthdays of Today</title></head>')\n",
        "\n",
        "\t#extract Weekday %A / Month %B / Day of the Month %d by formatting today's date accordingly\n",
        "\tdate = datetime.today().strftime(\"%A  %B %d\")\n",
        "\tf.write('<body><h1>Scientific Birthdays of {}</h1>'.format(date))\n",
        "\n",
        "\tf.write('<ul>')\n",
        "\n",
        "\tfor result in results[\"results\"][\"bindings\"]:\n",
        "\t\tif (\"scientist\" in result):\n",
        "\t\t\t#Create a Wikipedia Link\n",
        "\t\t\twikiurl = \"http://en.wikipedia.org/wiki/\" + result[\"scientist\"][\"value\"].split('/')[-1]\n",
        "\t\telse:\n",
        "\t\t\twikiurl = 'NONE'  \n",
        "\t\tif (\"name\" in result):\n",
        "\t\t\tname = result[\"name\"][\"value\"]\n",
        "\t\telse:\n",
        "\t\t\tname = 'NONE'  \t\t\n",
        "\t\tif (\"birthdate\" in result):\n",
        "\t\t\tbirthdate = result[\"birthdate\"][\"value\"]\n",
        "\t\telse:\n",
        "\t\t\tbirthdate = 'NONE'        \n",
        "\t\tif (\"description\" in result):\n",
        "\t\t\tdescription = result[\"description\"][\"value\"]\n",
        "\t\telse:\n",
        "\t\t\tdescription = ' '  \n",
        "\t\tif (\"thumbnail\" in result):\n",
        "\t\t\tpic = result[\"thumbnail\"][\"value\"]\n",
        "\t\telse:\n",
        "\t\t\tpic = 'https://upload.wikimedia.org/wikipedia/commons/thumb/b/b0/Question_mark2.svg/71px-Question_mark2.svg.png'        \t\n",
        "\n",
        "\t\t#parse date as datetime\n",
        "\t\tdt = datetime.strptime(birthdate, '%Y-%m-%d')\n",
        "  \n",
        "\t\tf.write('<li><b>{}</b> <ul><li><img src=\"{}\" height=\"60px\"> <a href=\"{}\">{}</a>, {} </li></ul></li>'.format(dt.year, pic.replace(\"300\", \"60\"), wikiurl, name, description))\n",
        "\tf.write('</ul>')\n",
        "\tf.write('</body></html>')\n",
        "files.download('birthday.html')"
      ],
      "execution_count": null,
      "outputs": [
        {
          "output_type": "display_data",
          "data": {
            "application/javascript": [
              "\n",
              "    async function download(id, filename, size) {\n",
              "      if (!google.colab.kernel.accessAllowed) {\n",
              "        return;\n",
              "      }\n",
              "      const div = document.createElement('div');\n",
              "      const label = document.createElement('label');\n",
              "      label.textContent = `Downloading \"${filename}\": `;\n",
              "      div.appendChild(label);\n",
              "      const progress = document.createElement('progress');\n",
              "      progress.max = size;\n",
              "      div.appendChild(progress);\n",
              "      document.body.appendChild(div);\n",
              "\n",
              "      const buffers = [];\n",
              "      let downloaded = 0;\n",
              "\n",
              "      const channel = await google.colab.kernel.comms.open(id);\n",
              "      // Send a message to notify the kernel that we're ready.\n",
              "      channel.send({})\n",
              "\n",
              "      for await (const message of channel.messages) {\n",
              "        // Send a message to notify the kernel that we're ready.\n",
              "        channel.send({})\n",
              "        if (message.buffers) {\n",
              "          for (const buffer of message.buffers) {\n",
              "            buffers.push(buffer);\n",
              "            downloaded += buffer.byteLength;\n",
              "            progress.value = downloaded;\n",
              "          }\n",
              "        }\n",
              "      }\n",
              "      const blob = new Blob(buffers, {type: 'application/binary'});\n",
              "      const a = document.createElement('a');\n",
              "      a.href = window.URL.createObjectURL(blob);\n",
              "      a.download = filename;\n",
              "      div.appendChild(a);\n",
              "      a.click();\n",
              "      div.remove();\n",
              "    }\n",
              "  "
            ],
            "text/plain": [
              "<IPython.core.display.Javascript object>"
            ]
          },
          "metadata": {
            "tags": []
          }
        },
        {
          "output_type": "display_data",
          "data": {
            "application/javascript": [
              "download(\"download_be279661-0a5d-486c-ba43-2da5c27bda2f\", \"birthday.html\", 29053)"
            ],
            "text/plain": [
              "<IPython.core.display.Javascript object>"
            ]
          },
          "metadata": {
            "tags": []
          }
        }
      ]
    },
    {
      "cell_type": "markdown",
      "metadata": {
        "id": "b2NmCIJYb4b2"
      },
      "source": [
        "Probably, it looks abit nicer in a table..."
      ]
    },
    {
      "cell_type": "code",
      "metadata": {
        "id": "G1vp6PaVJC6G",
        "colab": {
          "base_uri": "https://localhost:8080/",
          "height": 34
        },
        "outputId": "f6b51144-eacd-4036-eecb-bda2a7469ac6"
      },
      "source": [
        "from google.colab import files\n",
        "\n",
        "with open('birthday.html', 'w') as f:\n",
        "\t# Create HTML output\n",
        "\tf.write('<html><head><title>Scientific Birthdays of Today</title></head>')\n",
        "\n",
        "\t#extract Weekday %A / Month %B / Day of the Month %d by formatting today's date accordingly\n",
        "\tdate = datetime.today().strftime(\"%A  %B %d\")\n",
        "\t# f.write('<body><h1>Scientific Birthdays of {}</h1>'.format(date))\n",
        "\n",
        "\tf.write('<table style=\"width:75%\">')\n",
        "\n",
        "\tfor result in results[\"results\"][\"bindings\"]:\n",
        "\t\tif (\"scientist\" in result):\n",
        "\t\t\t#Create a Wikipedia Link\n",
        "\t\t\twikiurl = \"http://en.wikipedia.org/wiki/\" + result[\"scientist\"][\"value\"].split('/')[-1]\n",
        "\t\telse:\n",
        "\t\t\twikiurl = 'NONE'  \n",
        "\t\tif (\"name\" in result):\n",
        "\t\t\tname = result[\"name\"][\"value\"]\n",
        "\t\telse:\n",
        "\t\t\tname = 'NONE'  \t\t\n",
        "\t\tif (\"birthdate\" in result):\n",
        "\t\t\tbirthdate = result[\"birthdate\"][\"value\"]\n",
        "\t\telse:\n",
        "\t\t\tbirthdate = 'NONE'        \n",
        "\t\tif (\"description\" in result):\n",
        "\t\t\tdescription = result[\"description\"][\"value\"]\n",
        "\t\telse:\n",
        "\t\t\tdescription = ' '  \n",
        "\t\tif (\"thumbnail\" in result):\n",
        "\t\t\tpic = result[\"thumbnail\"][\"value\"]\n",
        "\t\telse:\n",
        "\t\t\tpic = 'https://upload.wikimedia.org/wikipedia/commons/thumb/b/b0/Question_mark2.svg/71px-Question_mark2.svg.png'   \n",
        "\n",
        "\t\t#parse date as datetime\n",
        "\t\tdt = datetime.strptime(birthdate, '%Y-%m-%d')\n",
        "  \n",
        "\t\tf.write('<tr><td><b>{}</b></td> <td style=\"text-center: justify;\"><img src=\"{}\" height=\"60px\"></td><td style=\"text-align: justify;\"><a href=\"{}\">{}</a>, {} </td></tr>'.format(dt.year, pic.replace(\"300\", \"60\"), wikiurl, name, description))\n",
        "\tf.write('</table>')\n",
        "\tf.write('</body></html>')\n",
        "files.download('birthday.html')"
      ],
      "execution_count": null,
      "outputs": [
        {
          "output_type": "display_data",
          "data": {
            "application/javascript": [
              "\n",
              "    async function download(id, filename, size) {\n",
              "      if (!google.colab.kernel.accessAllowed) {\n",
              "        return;\n",
              "      }\n",
              "      const div = document.createElement('div');\n",
              "      const label = document.createElement('label');\n",
              "      label.textContent = `Downloading \"${filename}\": `;\n",
              "      div.appendChild(label);\n",
              "      const progress = document.createElement('progress');\n",
              "      progress.max = size;\n",
              "      div.appendChild(progress);\n",
              "      document.body.appendChild(div);\n",
              "\n",
              "      const buffers = [];\n",
              "      let downloaded = 0;\n",
              "\n",
              "      const channel = await google.colab.kernel.comms.open(id);\n",
              "      // Send a message to notify the kernel that we're ready.\n",
              "      channel.send({})\n",
              "\n",
              "      for await (const message of channel.messages) {\n",
              "        // Send a message to notify the kernel that we're ready.\n",
              "        channel.send({})\n",
              "        if (message.buffers) {\n",
              "          for (const buffer of message.buffers) {\n",
              "            buffers.push(buffer);\n",
              "            downloaded += buffer.byteLength;\n",
              "            progress.value = downloaded;\n",
              "          }\n",
              "        }\n",
              "      }\n",
              "      const blob = new Blob(buffers, {type: 'application/binary'});\n",
              "      const a = document.createElement('a');\n",
              "      a.href = window.URL.createObjectURL(blob);\n",
              "      a.download = filename;\n",
              "      div.appendChild(a);\n",
              "      a.click();\n",
              "      div.remove();\n",
              "    }\n",
              "  "
            ],
            "text/plain": [
              "<IPython.core.display.Javascript object>"
            ]
          },
          "metadata": {
            "tags": []
          }
        },
        {
          "output_type": "display_data",
          "data": {
            "application/javascript": [
              "download(\"download_b03f6e4f-2f97-49b5-9aa1-2e2147cbf5e8\", \"birthday.html\", 32368)"
            ],
            "text/plain": [
              "<IPython.core.display.Javascript object>"
            ]
          },
          "metadata": {
            "tags": []
          }
        }
      ]
    }
  ]
}